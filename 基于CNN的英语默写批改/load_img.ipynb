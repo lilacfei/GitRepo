{
 "cells": [
  {
   "cell_type": "code",
   "execution_count": 37,
   "metadata": {},
   "outputs": [],
   "source": [
    "import os\n",
    "import cv2 \n",
    "import importer\n",
    "import numpy as np \n",
    "from img2bin import extract_img"
   ]
  },
  {
   "cell_type": "code",
   "execution_count": 112,
   "metadata": {},
   "outputs": [],
   "source": [
    "NUMBER_OF_PICTURES = 1000\n",
    "PICTURE_SIZE = 28"
   ]
  },
  {
   "cell_type": "code",
   "execution_count": 101,
   "metadata": {},
   "outputs": [],
   "source": [
    "def read_img_file(dtype): \n",
    "    if dtype == 'train':\n",
    "        RELEVANT_URL = './letters_train'\n",
    "    elif dtype == 'test':\n",
    "        RELEVANT_URL = './letters_test'\n",
    "    fileList1 = [x for x in os.listdir(RELEVANT_URL)] \n",
    "    num_of_letters = len(fileList1) \n",
    "    distribute_table = [] \n",
    "    in_total = 0 \n",
    "    for j in range(num_of_letters): \n",
    "        characterPath = os.path.join(RELEVANT_URL, fileList1[j]) \n",
    "        fileList2 = [x for x in os.listdir(characterPath)] \n",
    "        length = len(fileList2) \n",
    "        if length >= NUMBER_OF_PICTURES: \n",
    "            distribute = {'num_of_inputs': NUMBER_OF_PICTURES, \n",
    "                          'start_point': in_total}\n",
    "            in_total = in_total + NUMBER_OF_PICTURES\n",
    "        else: \n",
    "            distribute = {'num_of_inputs': length, \n",
    "                          'start_point': in_total}\n",
    "            in_total = in_total + length\n",
    "        distribute_table.append(distribute) \n",
    "\n",
    "        images = np.ndarray((in_total , PICTURE_SIZE * PICTURE_SIZE), np.float32) \n",
    "        images_label = np.ndarray(in_total, np.int32) \n",
    "        \n",
    "    for j in range(num_of_letters): \n",
    "        characterPath = os.path.join(RELEVANT_URL, fileList1[j]) \n",
    "        fileList2 = [x for x in os.listdir(characterPath)] \n",
    "\n",
    "        for i in range(distribute_table[j]['num_of_inputs']): \n",
    "            img = cv2.imread(os.path.join(characterPath, fileList2[i]))\n",
    "            gray = cv2.cvtColor(img,cv2.COLOR_BGR2GRAY)  \n",
    "            ret, binary = cv2.threshold(gray,149,1,cv2.THRESH_BINARY)  \n",
    "            img, contours, hierarchy = cv2.findContours(binary,cv2.RETR_TREE,cv2.CHAIN_APPROX_SIMPLE) \n",
    "            contoured_imgs = []\n",
    "            for contour in contours:\n",
    "                location = cv2.boundingRect(contour)\n",
    "                #print(location)\n",
    "                x, y, w, h = location\n",
    "                if(w*h<100):\n",
    "                    continue\n",
    "                extracted_img = extract_img(location,img,contour)\n",
    "                contoured_imgs.append(extracted_img)\n",
    "            if len(contoured_imgs):\n",
    "                img = contoured_imgs[0].reshape(28*28) \n",
    "                t = np.ones(len(img), np.uint8)\n",
    "                for _j in range(len(img)):\n",
    "                    if img[_j] == True:\n",
    "                        t[_j] = 255\n",
    "                    else:\n",
    "                        t[_j] = 0\n",
    "                img = t\n",
    "            else:\n",
    "                img = binary.reshape(28*28)\n",
    "                for _i in range(len(img)):\n",
    "                    if img[_i] == 1:\n",
    "                        img[_i] = 0\n",
    "                    else:\n",
    "                        img[_i] = 255\n",
    "            images[distribute_table[j]['start_point'] + i] = img\n",
    "            images_label[distribute_table[j]['start_point'] + i] = int(fileList1[j]) - 1\n",
    "\n",
    "    return images, images_label "
   ]
  },
  {
   "cell_type": "markdown",
   "metadata": {},
   "source": [
    "输入图片中将字迹处记为0，背景记为1；读文件夹列表时顺序是1,10,11...和平时的顺序不同;EMNIST数据集中的图片都是以块的方式排列的，需要提取字母的边缘才能和输入的形式统一。"
   ]
  }
 ],
 "metadata": {
  "kernelspec": {
   "display_name": "Python 3",
   "language": "python",
   "name": "python3"
  },
  "language_info": {
   "codemirror_mode": {
    "name": "ipython",
    "version": 3
   },
   "file_extension": ".py",
   "mimetype": "text/x-python",
   "name": "python",
   "nbconvert_exporter": "python",
   "pygments_lexer": "ipython3",
   "version": "3.6.5"
  }
 },
 "nbformat": 4,
 "nbformat_minor": 2
}
