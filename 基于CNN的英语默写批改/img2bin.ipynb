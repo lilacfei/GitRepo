{
 "cells": [
  {
   "cell_type": "code",
   "execution_count": 1,
   "metadata": {},
   "outputs": [],
   "source": [
    "from numpy.lib import arraypad"
   ]
  },
  {
   "cell_type": "code",
   "execution_count": 2,
   "metadata": {},
   "outputs": [],
   "source": [
    "import cv2\n",
    "import numpy as np\n",
    "from pylab import *\n",
    "from PIL import Image\n",
    "from matplotlib import pyplot as plot\n",
    "%matplotlib inline\n",
    "from skimage.morphology import skeletonize"
   ]
  },
  {
   "cell_type": "code",
   "execution_count": 3,
   "metadata": {},
   "outputs": [],
   "source": [
    "IMG_SIZE = 28\n",
    "\n",
    "# 一个数学计算式能够包含的最多字符个数\n",
    "LARGEST_NUMBER_OF_SYMBOLS = 50\n",
    "\n",
    "# 原图缩放比例\n",
    "SCALSIZE = 1"
   ]
  },
  {
   "cell_type": "code",
   "execution_count": 4,
   "metadata": {},
   "outputs": [],
   "source": [
    "def Perspective(img):\n",
    "    rows, cols = img.shape[:2]\n",
    "    pts1 = np.float32([[310, 175], [320, 100], [60, 45], [50, 120]])\n",
    "    pts2 = np.float32([[0, 0], [0, 100], [270, 100], [270, 0]])\n",
    "    M = cv2.getPerspectiveTransform(pts1, pts2)\n",
    "    dst = cv2.warpPerspective(img, M, (270, 100))\n",
    "    return dst"
   ]
  },
  {
   "cell_type": "code",
   "execution_count": 5,
   "metadata": {},
   "outputs": [],
   "source": [
    "#读取图片并将图片转化成二值图,返回原彩色图和二值图\n",
    "def read_img_and_convert_to_binary(img):\n",
    "    #读取待处理的图片\n",
    "    original_img = img\n",
    "    \"\"\"\n",
    "    image=Image.fromarray(original_img)\n",
    "    imshow(image)\n",
    "    show()\n",
    "    \"\"\"\n",
    "    # print(original_img)\n",
    "    original_img = Perspective(original_img)\n",
    "    #将原图分辨率缩小SCALSIZE倍，减少计算复杂度\n",
    "    original_img = cv2.resize(original_img,(np.int(original_img.shape[1]/SCALSIZE),np.int(original_img.shape[0]/SCALSIZE)), interpolation=cv2.INTER_AREA)\n",
    "    #降噪\n",
    "    blur = cv2.GaussianBlur(original_img, (3, 3), 0)\n",
    "    #imshow(blur)\n",
    "    #show()\n",
    "    #将彩色图转化成灰度图\n",
    "    img_gray = cv2.cvtColor(blur,cv2.COLOR_BGR2GRAY)\n",
    "    #图片开（opening）处理，用来降噪，使图片中的字符边界更圆滑，没有皱褶\n",
    "    kernel = np.ones((1, 1), np.uint8)\n",
    "    opening = cv2.morphologyEx(img_gray, cv2.MORPH_OPEN, kernel)\n",
    "    #imshow(opening)\n",
    "    #show()\n",
    "    kernel2 = np.ones((1,1), np.uint8)\n",
    "    opening = cv2.dilate(opening, kernel2, iterations=1)\n",
    "    #imshow(opening)\n",
    "    #show()\n",
    "    # Otsu's thresholding after Gaussian filtering\n",
    "    # 采用otsu阈值法将灰度图转化成只有0和1的二值图\n",
    "    blur = cv2.GaussianBlur(opening,(3,3),0)\n",
    "    #imshow(blur)\n",
    "    #show()\n",
    "    #ret, binary_img = cv2.threshold(img_gray, 120, 1, cv2.THRESH_BINARY_INV)\n",
    "    ret,binary_img = cv2.threshold(blur,0,1,cv2.THRESH_BINARY_INV+cv2.THRESH_OTSU)\n",
    "    return original_img,binary_img"
   ]
  },
  {
   "cell_type": "code",
   "execution_count": 6,
   "metadata": {},
   "outputs": [],
   "source": [
    "def extract_img(location,img,contour=None):\n",
    "    x,y,w,h=location\n",
    "    # 只提取轮廓内的字符\n",
    "    if contour is None:\n",
    "        extracted_img = img[y:y + h, x:x + w]\n",
    "    else:\n",
    "        mask = np.zeros(img.shape, np.uint8)\n",
    "        cv2.drawContours(mask, [contour], -1, 255, cv2.FILLED)\n",
    "        #imshow(mask)\n",
    "        #show()\n",
    "        img_after_masked = cv2.bitwise_and(mask, img)\n",
    "        extracted_img = img_after_masked[y:y + h, x:x + w]\n",
    "        #imshow(extracted_img)\n",
    "        #show()\n",
    "    # 将提取出的img归一化成IMG_SIZE*IMG_SIZE大小的二值图\n",
    "    black = np.zeros((IMG_SIZE, IMG_SIZE), np.uint8)\n",
    "    if (w > h):\n",
    "        res = cv2.resize(extracted_img, (IMG_SIZE, (int)(h * IMG_SIZE / w)), interpolation=cv2.INTER_AREA)\n",
    "        d = int(abs(res.shape[0] - res.shape[1]) / 2)\n",
    "        black[d:res.shape[0] + d, 0:res.shape[1]] = res\n",
    "    else:\n",
    "        res = cv2.resize(extracted_img, ((int)(w * IMG_SIZE / h), IMG_SIZE), interpolation=cv2.INTER_AREA)\n",
    "        d = int(abs(res.shape[0] - res.shape[1]) / 2)\n",
    "        black[0:res.shape[0], d:res.shape[1] + d] = res\n",
    "    extracted_img = skeletonize(black)\n",
    "    #imshow(extracted_img)\n",
    "    #show()\n",
    "    extracted_img = np.logical_not(extracted_img)\n",
    "    extracted_img.dtype = np.uint8\n",
    "    extracted_img = cv2.GaussianBlur(extracted_img,(1,1),0)\n",
    "    #imshow(extracted_img)\n",
    "    #show()\n",
    "    return extracted_img"
   ]
  },
  {
   "cell_type": "code",
   "execution_count": 7,
   "metadata": {},
   "outputs": [],
   "source": [
    "def binary_img_segment(binary_img,original_img=None):\n",
    "    # binary_img = skeletonize(binary_img)\n",
    "    # plot.imshow( binary_img,cmap = 'gray', interpolation = 'bicubic')\n",
    "    # plot.show()\n",
    "    #寻找每一个字符的轮廓，使用cv2.RETR_EXTERNAL模式，表示只需要每一个字符最外面的轮廓\n",
    "    img, contours, hierarchy = cv2.findContours(binary_img, cv2.RETR_EXTERNAL, cv2.CHAIN_APPROX_SIMPLE)#cv2.RETR_TREE\n",
    "    #cv2.drawContours(img, contours, -1, (0, 255, 0), 2)\n",
    "    if len(contours) > LARGEST_NUMBER_OF_SYMBOLS:\n",
    "        raise ValueError('symtem cannot interpret this image!')\n",
    "    symbol_segment_location = []\n",
    "    # 将每一个联通体，作为一个字符\n",
    "    symbol_segment_list = []\n",
    "    index = 1\n",
    "    for contour in contours:\n",
    "        location = cv2.boundingRect(contour)\n",
    "        x, y, w, h = location\n",
    "        if(w*h < 100):\n",
    "            continue\n",
    "        symbol_segment_location.append(location)\n",
    "        # 只提取轮廓内的字符\n",
    "        extracted_img = extract_img(location,img,contour)\n",
    "        #kernel = np.ones((3, 3), np.uint8)\n",
    "        #extracted_img = cv2.morphologyEx(extracted_img, cv2.MORPH_OPEN, kernel)\n",
    "        #plot.imshow(extracted_img)\n",
    "        #plot.show()\n",
    "        symbol_segment_list.append(extracted_img)\n",
    "        if len(original_img):\n",
    "            cv2.rectangle(original_img, (x, y), (x + w, y + h), (0, 0, 255), 3)\n",
    "        symbols=[]\n",
    "        for i in range(len(symbol_segment_location)):\n",
    "            symbols.append({'location':symbol_segment_location[i],'src_img':symbol_segment_list[i]})\n",
    "        # 对字符按字符横坐标排序\n",
    "        symbols.sort(key=lambda x:x['location'][0])\n",
    "    #print(len(symbols))\n",
    "    #print(symbols[0]['location'])\n",
    "    #print(symbols[0]['src_img'])\n",
    "    alphabet = []\n",
    "    for i in range(length):\n",
    "        alphabet.append({'location':symbols[-1-i]['location'],'src_img':symbols[-1-i]['src_img']})\n",
    "    #print(alphabet)\n",
    "    alphabet.sort(key=lambda x:x['location'][0])\n",
    "    for i in range(len(alphabet)):\n",
    "        plot.imshow(alphabet[i]['src_img'])\n",
    "        plot.show()\n",
    "    return alphabet"
   ]
  },
  {
   "cell_type": "code",
   "execution_count": 8,
   "metadata": {},
   "outputs": [],
   "source": [
    "def normalize_matrix_value(symbol_segment_list):\n",
    "    symbols_to_be_predicted = []\n",
    "    for i in range(len(symbol_segment_list)):\n",
    "        one = symbol_segment_list[i].reshape(IMG_SIZE * IMG_SIZE)\n",
    "        t = np.ones((IMG_SIZE * IMG_SIZE), np.uint8)\n",
    "        for j in range(IMG_SIZE * IMG_SIZE):\n",
    "            if one[j] == True:\n",
    "                t[j] = 255\n",
    "            else:\n",
    "                t[j] = 0\n",
    "        symbols_to_be_predicted.append(np.array(t, np.float32))\n",
    "    return np.array(symbols_to_be_predicted,np.float32)"
   ]
  },
  {
   "cell_type": "code",
   "execution_count": 9,
   "metadata": {
    "scrolled": true
   },
   "outputs": [
    {
     "data": {
      "image/png": "[encoded data removed]",
      "text/plain": [
       "<Figure size 432x288 with 1 Axes>"
      ]
     },
     "metadata": {
      "needs_background": "light"
     },
     "output_type": "display_data"
    },
    {
     "data": {
      "image/png": "[encoded data removed]",
      "text/plain": [
       "<Figure size 432x288 with 1 Axes>"
      ]
     },
     "metadata": {
      "needs_background": "light"
     },
     "output_type": "display_data"
    },
    {
     "data": {
      "image/png": "[encoded data removed]",
      "text/plain": [
       "<Figure size 432x288 with 1 Axes>"
      ]
     },
     "metadata": {
      "needs_background": "light"
     },
     "output_type": "display_data"
    },
    {
     "data": {
      "image/png": "[encoded data removed]",
      "text/plain": [
       "<Figure size 432x288 with 1 Axes>"
      ]
     },
     "metadata": {
      "needs_background": "light"
     },
     "output_type": "display_data"
    },
    {
     "data": {
      "image/png": "[encoded data removed]",
      "text/plain": [
       "<Figure size 432x288 with 1 Axes>"
      ]
     },
     "metadata": {
      "needs_background": "light"
     },
     "output_type": "display_data"
    },
    {
     "data": {
      "image/png": "[encoded data removed]",
      "text/plain": [
       "<Figure size 432x288 with 1 Axes>"
      ]
     },
     "metadata": {
      "needs_background": "light"
     },
     "output_type": "display_data"
    },
    {
     "data": {
      "image/png": "[encoded data removed]",
      "text/plain": [
       "<Figure size 432x288 with 1 Axes>"
      ]
     },
     "metadata": {
      "needs_background": "light"
     },
     "output_type": "display_data"
    },
    {
     "data": {
      "image/png": "[encoded data removed]",
      "text/plain": [
       "<Figure size 432x288 with 1 Axes>"
      ]
     },
     "metadata": {
      "needs_background": "light"
     },
     "output_type": "display_data"
    },
    {
     "data": {
      "image/png": "[encoded data removed]",
      "text/plain": [
       "<Figure size 432x288 with 1 Axes>"
      ]
     },
     "metadata": {
      "needs_background": "light"
     },
     "output_type": "display_data"
    },
    {
     "data": {
      "image/png": "[encoded data removed]",
      "text/plain": [
       "<Figure size 432x288 with 1 Axes>"
      ]
     },
     "metadata": {
      "needs_background": "light"
     },
     "output_type": "display_data"
    }
   ],
   "source": [
    "filename = 'wf.png'\n",
    "img = cv2.imread(filename)\n",
    "original_img, binary_img = read_img_and_convert_to_binary(img)\n",
    "symbols = binary_img_segment(binary_img, original_img)\n",
    "symbols_to_be_predicted = normalize_matrix_value([x['src_img'] for x in symbols])"
   ]
  }
 ],
 "metadata": {
  "kernelspec": {
   "display_name": "Python 3",
   "language": "python",
   "name": "python3"
  },
  "language_info": {
   "codemirror_mode": {
    "name": "ipython",
    "version": 3
   },
   "file_extension": ".py",
   "mimetype": "text/x-python",
   "name": "python",
   "nbconvert_exporter": "python",
   "pygments_lexer": "ipython3",
   "version": "3.7.0"
  }
 },
 "nbformat": 4,
 "nbformat_minor": 2
}
